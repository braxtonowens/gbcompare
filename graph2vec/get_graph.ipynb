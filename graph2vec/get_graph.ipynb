{
 "cells": [
  {
   "cell_type": "code",
   "execution_count": 3,
   "metadata": {},
   "outputs": [
    {
     "name": "stdout",
     "output_type": "stream",
     "text": [
      "finished graph struct_S103e_fcc_N119_19_205_Al_M99_200714.3134\n",
      "finished graph struct_S103e_fcc_N133_203_11_Al_M99_200714.2934\n",
      "finished graph struct_S103e_fcc_N142_130_107_Al_M99_210622.63\n",
      "finished graph struct_S103e_fcc_N167_282_99_Al_M99_210624.2015\n",
      "finished graph struct_S103e_fcc_N176_106_195_Al_M99_210622.2199\n",
      "finished graph struct_S103e_fcc_N18_60_89_Al_M99_210625.1551\n",
      "finished graph struct_S103e_fcc_N18_n43_89_Al_M99_200714.782\n",
      "finished graph struct_S103e_fcc_N199_629_97_Al_M99_210624.1414\n",
      "finished graph struct_S103e_fcc_N19_29_31_Al_M99_200714.175\n",
      "finished graph struct_S103e_fcc_N251_253_171_Al_M99_210624.1655\n"
     ]
    }
   ],
   "source": [
    "import os\n",
    "import networkx as nx\n",
    "import matplotlib.pyplot as plt\n",
    "from scipy.spatial import cKDTree\n",
    "import pickle\n",
    "import numpy as np\n",
    "\n",
    "directory = 'all_graphs_gb_atoms'\n",
    "\n",
    "if not os.path.exists(directory):\n",
    "    os.makedirs(directory)\n",
    "    print(\"Directory created:\", directory)\n",
    "else:\n",
    "    print(\"Directory already exists:\", directory)\n",
    "\n",
    "with open('../gbs_ase.pickle', 'rb') as handle:\n",
    "    my_ase = pickle.load(handle)\n",
    "\n",
    "def distance(location1, location2):\n",
    "    return sum((x - y) ** 2 for x, y in zip(location1, location2)) ** 0.5\n",
    "\n",
    "# Define radius\n",
    "radius = 3.74\n",
    "\n",
    "for i in range(len(my_ase)):\n",
    "    keep = my_ase[i].arrays[\"c_csym\"].reshape(-1) > .1\n",
    "    atom_locations = my_ase[i][keep].positions\n",
    "    \n",
    "    minx = min(atom_locations[:,0])\n",
    "    miny = min(atom_locations[:,1])\n",
    "    minz = min(atom_locations[:,2])\n",
    "    \n",
    "    atom_locations[:,0] += abs(minx)\n",
    "    atom_locations[:,1] += abs(miny)\n",
    "    atom_locations[:,2] += abs(minz)\n",
    "    \n",
    "    # Create a graph\n",
    "    G = nx.Graph()\n",
    "\n",
    "    # Add atoms as nodes\n",
    "    for atom_id, location in enumerate(atom_locations):\n",
    "        G.add_node(atom_id, location=location)\n",
    "    # Create KDTree\n",
    "    tree = cKDTree(atom_locations,boxsize=[np.max(atom_locations[:,0]+.0001),np.max(atom_locations[:,1]+.0001),1e10])\n",
    "    # Add bonds (edges) between atoms within radius\n",
    "    for j, location1 in enumerate(atom_locations):\n",
    "        neighbors = tree.query_ball_point(location1, r=radius)\n",
    "        for neighbor in neighbors:\n",
    "            if neighbor != j:  # Ignore self\n",
    "                location2 = atom_locations[neighbor]\n",
    "                weight = 1 / distance(location1, location2)\n",
    "                G.add_edge(j, neighbor, weight=weight)\n",
    "    with open(f'all_graphs_gb_atoms/{my_ase[i].compute_id}.pkl', 'wb') as f:\n",
    "        pickle.dump(G, f)               \n",
    "    print(f\"finished graph {my_ase[i].compute_id}\")\n"
   ]
  },
  {
   "cell_type": "code",
   "execution_count": 5,
   "metadata": {},
   "outputs": [],
   "source": [
    "import os\n",
    "from concurrent.futures import ProcessPoolExecutor\n",
    "\n",
    "path = 'all_graphs_gb_atoms'\n",
    "graphs = np.sort(os.listdir(path))\n",
    "path_graphs = [os.path.join(path, file) for file in graphs]\n",
    "g_list = []\n",
    "for path_graph in path_graphs:\n",
    "    with open(path_graph,'rb') as f:\n",
    "        data = pickle.load(f)\n",
    "    g_list.append(data)"
   ]
  },
  {
   "cell_type": "code",
   "execution_count": 7,
   "metadata": {},
   "outputs": [
    {
     "name": "stdout",
     "output_type": "stream",
     "text": [
      "(10, 128)\n"
     ]
    }
   ],
   "source": [
    "from karateclub import Graph2Vec\n",
    "model = Graph2Vec()\n",
    "model.fit(g_list)\n",
    "X = model.get_embedding()\n",
    "print(np.shape(X))"
   ]
  },
  {
   "cell_type": "code",
   "execution_count": null,
   "metadata": {},
   "outputs": [],
   "source": []
  }
 ],
 "metadata": {
  "kernelspec": {
   "display_name": "finalenv",
   "language": "python",
   "name": "finalenv"
  },
  "language_info": {
   "codemirror_mode": {
    "name": "ipython",
    "version": 3
   },
   "file_extension": ".py",
   "mimetype": "text/x-python",
   "name": "python",
   "nbconvert_exporter": "python",
   "pygments_lexer": "ipython3",
   "version": "3.8.5"
  }
 },
 "nbformat": 4,
 "nbformat_minor": 4
}
