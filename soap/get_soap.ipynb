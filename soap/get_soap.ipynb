{
 "cells": [
  {
   "cell_type": "markdown",
   "metadata": {},
   "source": [
    "### This notebook uses the Dscribe Python library to map our cartisian coordinates to soap vectors"
   ]
  },
  {
   "cell_type": "code",
   "execution_count": 7,
   "metadata": {},
   "outputs": [],
   "source": [
    "#Library imports\n",
    "import numpy as np\n",
    "import pickle\n",
    "import os\n",
    "#open the pickled ASE data \n",
    "with open('../gbs_ase.pickle', 'rb') as handle:\n",
    "    gbs = pickle.load(handle)"
   ]
  },
  {
   "cell_type": "code",
   "execution_count": 9,
   "metadata": {},
   "outputs": [
    {
     "name": "stdout",
     "output_type": "stream",
     "text": [
      "Directory already exists: soap_data\n"
     ]
    }
   ],
   "source": [
    "from dscribe.descriptors import SOAP\n",
    "\n",
    "if not os.path.exists(directory):\n",
    "    os.makedirs(directory)\n",
    "    print(\"Directory created:\", directory)\n",
    "else:\n",
    "    print(\"Directory already exists:\", directory)\n",
    "\n",
    "for gb in gbs:\n",
    "    species = [\"Al\"]\n",
    "    r_cut = 3.74\n",
    "    nmax = 12\n",
    "    lmax = 12\n",
    "    sigma = .575\n",
    "\n",
    "    # Setting up the SOAP descriptor\n",
    "    soap = SOAP(\n",
    "        species=species,\n",
    "        periodic=False,\n",
    "        r_cut=rcut,\n",
    "        n_max=nmax,\n",
    "        l_max=lmax,\n",
    "    )\n",
    "    my_id = gb.compute_id\n",
    "    my_soap = soap.create(gb,)\n",
    "    \n",
    "    directory = 'soap_data'\n",
    "\n",
    "\n",
    "    \n",
    "    with open('soap_data/'+str(my_id)+'.pickle', 'wb') as handle:\n",
    "        pickle.dump(my_soap, handle, protocol=pickle.HIGHEST_PROTOCOL)\n",
    "    del(soap)\n"
   ]
  },
  {
   "cell_type": "code",
   "execution_count": null,
   "metadata": {},
   "outputs": [],
   "source": []
  }
 ],
 "metadata": {
  "kernelspec": {
   "display_name": "finalenv",
   "language": "python",
   "name": "finalenv"
  },
  "language_info": {
   "codemirror_mode": {
    "name": "ipython",
    "version": 3
   },
   "file_extension": ".py",
   "mimetype": "text/x-python",
   "name": "python",
   "nbconvert_exporter": "python",
   "pygments_lexer": "ipython3",
   "version": "3.8.5"
  }
 },
 "nbformat": 4,
 "nbformat_minor": 4
}
