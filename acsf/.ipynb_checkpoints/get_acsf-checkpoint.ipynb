{
 "cells": [
  {
   "cell_type": "code",
   "execution_count": null,
   "metadata": {},
   "outputs": [],
   "source": [
    "import numpy as np\n",
    "from dscribe.descriptors import ACSF\n",
    "from matplotlib import pyplot as plt\n",
    "import ase.io\n",
    "import os\n",
    "import pickle"
   ]
  },
  {
   "cell_type": "code",
   "execution_count": 5,
   "metadata": {},
   "outputs": [],
   "source": [
    "with open('../gbs_ase.pickle','rb') as f:\n",
    "    gbs = pickle.load(f)"
   ]
  },
  {
   "cell_type": "code",
   "execution_count": 10,
   "metadata": {},
   "outputs": [],
   "source": [
    "for i in range(len(gbs)):\n",
    "    acsf = ACSF(\n",
    "        species=[\"Al\"],\n",
    "        rcut=3.74,\n",
    "        g2_params=[[1, 1], [1, 2], [1, 3]],\n",
    "        g4_params=[[1, 1, 1], [1, 2, 1], [1, 1, -1], [1, 2, -1]],\n",
    "    )\n",
    "\n",
    "    my_acsf = acsf.create(gbs[i])\n",
    "    \n",
    "    directory = 'acsf_data'\n",
    "\n",
    "    if not os.path.exists(directory):\n",
    "        os.makedirs(directory)\n",
    "        print(\"Directory created:\", directory)\n",
    "    else:\n",
    "        print(\"Directory already exists:\", directory)\n",
    "    with open('acsf_data/'+ gbs[i].compute_id +'_acsf.pickle', 'wb') as f:\n",
    "        pickle.dump(my_acsf, f)\n",
    "    del(acsf)  "
   ]
  },
  {
   "cell_type": "code",
   "execution_count": null,
   "metadata": {},
   "outputs": [],
   "source": []
  }
 ],
 "metadata": {
  "kernelspec": {
   "display_name": "mat_env",
   "language": "python",
   "name": "mat_env"
  },
  "language_info": {
   "codemirror_mode": {
    "name": "ipython",
    "version": 3
   },
   "file_extension": ".py",
   "mimetype": "text/x-python",
   "name": "python",
   "nbconvert_exporter": "python",
   "pygments_lexer": "ipython3",
   "version": "3.10.9"
  }
 },
 "nbformat": 4,
 "nbformat_minor": 4
}
