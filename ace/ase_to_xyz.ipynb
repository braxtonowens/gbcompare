{
 "cells": [
  {
   "cell_type": "raw",
   "metadata": {},
   "source": [
    "The implementation for Atomic Cluster Expansion is written in Julia and takes xyz files as input, thankfully ASE provieds a useful function that makes the conversion."
   ]
  },
  {
   "cell_type": "code",
   "execution_count": 2,
   "metadata": {},
   "outputs": [
    {
     "name": "stdout",
     "output_type": "stream",
     "text": [
      "Directory already exists: xyz_data\n"
     ]
    }
   ],
   "source": [
    "#Use ASE to write xyz files\n",
    "import ase.io\n",
    "import os\n",
    "from ase.units import Bohr\n",
    "\n",
    "import pickle\n",
    "with open('../gbs_ase.pickle', 'rb') as handle:\n",
    "    gbs = pickle.load(handle)\n",
    "\n",
    "directory = 'xyz_data'\n",
    "\n",
    "if not os.path.exists(directory):\n",
    "    os.makedirs(directory)\n",
    "    print(\"Directory created:\", directory)\n",
    "else:\n",
    "    print(\"Directory already exists:\", directory)\n",
    "    \n",
    "for gb in gbs:\n",
    "    ase.io.write('xyz_data/' + gb.compute_id + '.xyz', gb)"
   ]
  },
  {
   "cell_type": "code",
   "execution_count": null,
   "metadata": {},
   "outputs": [],
   "source": []
  }
 ],
 "metadata": {
  "kernelspec": {
   "display_name": "mat_env",
   "language": "python",
   "name": "mat_env"
  },
  "language_info": {
   "codemirror_mode": {
    "name": "ipython",
    "version": 3
   },
   "file_extension": ".py",
   "mimetype": "text/x-python",
   "name": "python",
   "nbconvert_exporter": "python",
   "pygments_lexer": "ipython3",
   "version": "3.10.9"
  }
 },
 "nbformat": 4,
 "nbformat_minor": 4
}
