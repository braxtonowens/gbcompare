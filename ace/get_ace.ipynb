{
 "cells": [
  {
   "cell_type": "markdown",
   "metadata": {},
   "source": [
    "Just a reminder that the implementation for ACE is written in Julia and there is quite a lot of stuf to install. If you are having issues with the julia environment, you can install the whole thing yourself by uncommenting the lines in the cell below #pkg\"registry add https://github.com/JuliaRegistries/General\"; pkg\"registry add https://github.com/JuliaMolSim/MolSim.git\"; pkg\"add ACE1pack, ACE1, JuLIP, IPFitting, ASE\"\n"
   ]
  },
  {
   "cell_type": "code",
   "execution_count": 8,
   "metadata": {},
   "outputs": [
    {
     "name": "stderr",
     "output_type": "stream",
     "text": [
      "\u001b[32m\u001b[1m  Activating\u001b[22m\u001b[39m project at `~/gbcompare/ace_scripts`\n"
     ]
    }
   ],
   "source": [
    "using Pkg; Pkg.activate(\".\");#pkg\"registry add https://github.com/JuliaRegistries/General\"; pkg\"registry add https://github.com/JuliaMolSim/MolSim.git\"; pkg\"add ACE1pack, ACE1, JuLIP, IPFitting, ASE\"\n",
    "using ACE1pack\n",
    "using DelimitedFiles"
   ]
  },
  {
   "cell_type": "code",
   "execution_count": 7,
   "metadata": {},
   "outputs": [],
   "source": [
    "my_xyzs = readdir(\"xyz_data\",join=true)\n",
    "\n",
    "#The sorted array is not crucial because we are naming our files, but I am doing it anyway.\n",
    "my_sorted_xyzs = sort(my_xyzs)\n",
    "\n",
    "basis = ace_basis(species = [:Al],\n",
    "      N = 3,        # correlation order = body-order - 1\n",
    "      maxdeg = 12,  # polynomial degree\n",
    "      r0 = 2.86,     # estimate for NN distance\n",
    "      rin = 0.1,\n",
    "      rcut = 3.25,\n",
    "      pin = 2)\n",
    "\n",
    "function get_descriptor(dataset)\n",
    "    # compute average descriptor for each structure\n",
    "    descriptor = zeros(length(dataset[1]),length(basis))\n",
    "    for i in 1:length(dataset[1])\n",
    "        descriptor[i,:]=site_energy(basis, dataset[1], i) / length(dataset[1])\n",
    "    end\n",
    "return descriptor\n",
    "end\n",
    "\n",
    "directory = 'ace_txt_data'\n",
    "\n",
    "if not os.path.exists(directory):\n",
    "    os.makedirs(directory)\n",
    "    print(\"Directory created:\", directory)\n",
    "else:\n",
    "    print(\"Directory already exists:\", directory)\n",
    "\n",
    "for f in my_xyzs[1:length(my_xyzs)]\n",
    "    dataset = JuLIP.read_extxyz(f);\n",
    "    data = get_descriptor(dataset)\n",
    "    split_f = split(split(f,\"/\")[end],\".\")\n",
    "    writedlm(\"ace_txt_data/\" * split_f[1]*\".\"*split_f[2] * \".txt\",data)\n",
    "end"
   ]
  },
  {
   "cell_type": "code",
   "execution_count": null,
   "metadata": {},
   "outputs": [],
   "source": []
  }
 ],
 "metadata": {
  "kernelspec": {
   "display_name": "Julia 1.8.0",
   "language": "julia",
   "name": "julia-1.8"
  },
  "language_info": {
   "file_extension": ".jl",
   "mimetype": "application/julia",
   "name": "julia",
   "version": "1.8.0"
  }
 },
 "nbformat": 4,
 "nbformat_minor": 4
}
