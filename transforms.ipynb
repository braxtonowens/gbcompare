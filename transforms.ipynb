{
 "cells": [
  {
   "cell_type": "code",
   "execution_count": 10,
   "metadata": {},
   "outputs": [],
   "source": [
    "# Import necessary libraries\n",
    "import sys\n",
    "sys.path.append('/home/cbo27/gbcompare')\n",
    "import os\n",
    "import glob\n",
    "import pickle\n",
    "import numpy as np\n",
    "import scipy.linalg.interpolative as sli\n",
    "from sklearn.cluster import KMeans\n",
    "from largest_simplex import find_largest_simplex\n",
    "\n",
    "# Directories for input and output for descriptor in this example we use SOAP.\n",
    "dir_path_soap = 'soap/soap_data'\n",
    "output_dir_average = 'soap/average'\n",
    "output_dir_kmeans = 'soap/kmeans'\n",
    "output_dir_skeleton = 'soap/skeleton'\n",
    "output_dir_largest_simplex = 'soap/largest_simplex'\n",
    "\n",
    "# Ensure the output directories exist\n",
    "os.makedirs(output_dir_average, exist_ok=True)\n",
    "os.makedirs(output_dir_kmeans, exist_ok=True)\n",
    "os.makedirs(output_dir_skeleton, exist_ok=True)\n",
    "os.makedirs(output_dir_largest_simplex, exist_ok=True)\n",
    "\n",
    "start_indx = len(dir_path_soap) + 1\n",
    "\n",
    "# Function to process data and save the averaged result\n",
    "def process_and_save_average(data, filename, output_dir):\n",
    "    fixed_data = np.average(data, axis=0)\n",
    "    new_filename = os.path.splitext(filename[start_indx:])[0] + '_averaged.pickle'\n",
    "    output_path = os.path.join(output_dir, new_filename)\n",
    "    with open(output_path, 'wb') as f:\n",
    "        pickle.dump(fixed_data, f)\n",
    "    print(f'Processed and saved averaged results for {filename} to {output_path}')\n",
    "\n",
    "# Function to perform KMeans clustering and save the result\n",
    "def process_and_save_kmeans(data, filename, output_dir, n_clusters=20):\n",
    "    kmeans = KMeans(n_clusters=n_clusters, random_state=0, n_init=\"auto\").fit(data)\n",
    "    cluster_centers = kmeans.cluster_centers_\n",
    "    new_filename = os.path.splitext(filename[start_indx:])[0] + '_kmeans.pickle'\n",
    "    output_path = os.path.join(output_dir, new_filename)\n",
    "    with open(output_path, 'wb') as f:\n",
    "        pickle.dump(cluster_centers, f)\n",
    "    print(f'Processed and saved KMeans results for {filename} to {output_path}')\n",
    "\n",
    "# Function to perform skeleton decomposition and save the result\n",
    "def process_and_save_skeleton(data, filename, output_dir):\n",
    "    idx, proj = sli.interp_decomp(np.transpose(data), 20)\n",
    "    B = sli.reconstruct_skel_matrix(np.transpose(data), 20, idx)\n",
    "    new_filename = os.path.splitext(filename[start_indx:])[0] + '_skeleton.pickle'\n",
    "    output_path = os.path.join(output_dir, new_filename)\n",
    "    with open(output_path, 'wb') as f:\n",
    "        pickle.dump(np.transpose(B), f)\n",
    "    print(f'Processed and saved skeleton decomposition for {filename} to {output_path}')\n",
    "\n",
    "# Function to find the largest simplex and save the result\n",
    "def process_and_save_largest_simplex(data, filename, output_dir):\n",
    "    my_matrix = find_largest_simplex(data, 20)\n",
    "    new_filename = os.path.splitext(filename[start_indx:])[0] + '_largest_simplex.pickle'\n",
    "    output_path = os.path.join(output_dir, new_filename)\n",
    "    with open(output_path, 'wb') as f:\n",
    "        pickle.dump(my_matrix, f)\n",
    "    print(f'Processed and saved largest simplex for {filename} to {output_path}')"
   ]
  },
  {
   "cell_type": "markdown",
   "metadata": {},
   "source": [
    "## Average"
   ]
  },
  {
   "cell_type": "code",
   "execution_count": 11,
   "metadata": {},
   "outputs": [
    {
     "name": "stdout",
     "output_type": "stream",
     "text": [
      "Processed and saved averaged results for soap/soap_data/struct_S103e_fcc_N119_19_205_Al_M99_200714.3134.pickle to soap/average/struct_S103e_fcc_N119_19_205_Al_M99_200714.3134_averaged.pickle\n",
      "Processed and saved averaged results for soap/soap_data/struct_S103e_fcc_N176_106_195_Al_M99_210622.2199.pickle to soap/average/struct_S103e_fcc_N176_106_195_Al_M99_210622.2199_averaged.pickle\n",
      "Processed and saved averaged results for soap/soap_data/struct_S103e_fcc_N167_282_99_Al_M99_210624.2015.pickle to soap/average/struct_S103e_fcc_N167_282_99_Al_M99_210624.2015_averaged.pickle\n",
      "Processed and saved averaged results for soap/soap_data/struct_S103e_fcc_N18_60_89_Al_M99_210625.1551.pickle to soap/average/struct_S103e_fcc_N18_60_89_Al_M99_210625.1551_averaged.pickle\n",
      "Processed and saved averaged results for soap/soap_data/struct_S103e_fcc_N133_203_11_Al_M99_200714.2934.pickle to soap/average/struct_S103e_fcc_N133_203_11_Al_M99_200714.2934_averaged.pickle\n",
      "Processed and saved averaged results for soap/soap_data/struct_S103e_fcc_N18_n43_89_Al_M99_200714.782.pickle to soap/average/struct_S103e_fcc_N18_n43_89_Al_M99_200714.782_averaged.pickle\n",
      "Processed and saved averaged results for soap/soap_data/struct_S103e_fcc_N251_253_171_Al_M99_210624.1655.pickle to soap/average/struct_S103e_fcc_N251_253_171_Al_M99_210624.1655_averaged.pickle\n",
      "Processed and saved averaged results for soap/soap_data/struct_S103e_fcc_N19_29_31_Al_M99_200714.175.pickle to soap/average/struct_S103e_fcc_N19_29_31_Al_M99_200714.175_averaged.pickle\n",
      "Processed and saved averaged results for soap/soap_data/struct_S103e_fcc_N142_130_107_Al_M99_210622.63.pickle to soap/average/struct_S103e_fcc_N142_130_107_Al_M99_210622.63_averaged.pickle\n",
      "Processed and saved averaged results for soap/soap_data/struct_S103e_fcc_N199_629_97_Al_M99_210624.1414.pickle to soap/average/struct_S103e_fcc_N199_629_97_Al_M99_210624.1414_averaged.pickle\n"
     ]
    }
   ],
   "source": [
    "# Process files for average representation\n",
    "for filename in glob.glob(os.path.join(dir_path_soap, '*.pickle')):\n",
    "    with open(filename, 'rb') as f:\n",
    "        data = pickle.load(f)\n",
    "    process_and_save_average(data, filename, output_dir_average)"
   ]
  },
  {
   "cell_type": "markdown",
   "metadata": {},
   "source": [
    "## Kmeans"
   ]
  },
  {
   "cell_type": "code",
   "execution_count": 14,
   "metadata": {},
   "outputs": [
    {
     "name": "stdout",
     "output_type": "stream",
     "text": [
      "Processed and saved KMeans results for soap/soap_data/struct_S103e_fcc_N119_19_205_Al_M99_200714.3134.pickle to soap/kmeans/struct_S103e_fcc_N119_19_205_Al_M99_200714.3134_kmeans.pickle\n",
      "Processed and saved KMeans results for soap/soap_data/struct_S103e_fcc_N176_106_195_Al_M99_210622.2199.pickle to soap/kmeans/struct_S103e_fcc_N176_106_195_Al_M99_210622.2199_kmeans.pickle\n",
      "Processed and saved KMeans results for soap/soap_data/struct_S103e_fcc_N167_282_99_Al_M99_210624.2015.pickle to soap/kmeans/struct_S103e_fcc_N167_282_99_Al_M99_210624.2015_kmeans.pickle\n",
      "Processed and saved KMeans results for soap/soap_data/struct_S103e_fcc_N18_60_89_Al_M99_210625.1551.pickle to soap/kmeans/struct_S103e_fcc_N18_60_89_Al_M99_210625.1551_kmeans.pickle\n",
      "Processed and saved KMeans results for soap/soap_data/struct_S103e_fcc_N133_203_11_Al_M99_200714.2934.pickle to soap/kmeans/struct_S103e_fcc_N133_203_11_Al_M99_200714.2934_kmeans.pickle\n",
      "Processed and saved KMeans results for soap/soap_data/struct_S103e_fcc_N18_n43_89_Al_M99_200714.782.pickle to soap/kmeans/struct_S103e_fcc_N18_n43_89_Al_M99_200714.782_kmeans.pickle\n",
      "Processed and saved KMeans results for soap/soap_data/struct_S103e_fcc_N251_253_171_Al_M99_210624.1655.pickle to soap/kmeans/struct_S103e_fcc_N251_253_171_Al_M99_210624.1655_kmeans.pickle\n",
      "Processed and saved KMeans results for soap/soap_data/struct_S103e_fcc_N19_29_31_Al_M99_200714.175.pickle to soap/kmeans/struct_S103e_fcc_N19_29_31_Al_M99_200714.175_kmeans.pickle\n",
      "Processed and saved KMeans results for soap/soap_data/struct_S103e_fcc_N142_130_107_Al_M99_210622.63.pickle to soap/kmeans/struct_S103e_fcc_N142_130_107_Al_M99_210622.63_kmeans.pickle\n",
      "Processed and saved KMeans results for soap/soap_data/struct_S103e_fcc_N199_629_97_Al_M99_210624.1414.pickle to soap/kmeans/struct_S103e_fcc_N199_629_97_Al_M99_210624.1414_kmeans.pickle\n"
     ]
    }
   ],
   "source": [
    "# Process files for KMeans clustering\n",
    "for filename in glob.glob(os.path.join(dir_path_soap, '*.pickle')):\n",
    "    with open(filename, 'rb') as f:\n",
    "        data = pickle.load(f)\n",
    "    data = np.nan_to_num(data, nan=0.000001, posinf=0.000001, neginf=0.000001)\n",
    "    process_and_save_kmeans(data, filename, output_dir_kmeans)\n"
   ]
  },
  {
   "cell_type": "markdown",
   "metadata": {},
   "source": [
    "## Skeleton/CUR"
   ]
  },
  {
   "cell_type": "code",
   "execution_count": 15,
   "metadata": {},
   "outputs": [
    {
     "name": "stdout",
     "output_type": "stream",
     "text": [
      "Processed and saved skeleton decomposition for soap/soap_data/struct_S103e_fcc_N119_19_205_Al_M99_200714.3134.pickle to soap/skeleton/struct_S103e_fcc_N119_19_205_Al_M99_200714.3134_skeleton.pickle\n",
      "Processed and saved skeleton decomposition for soap/soap_data/struct_S103e_fcc_N176_106_195_Al_M99_210622.2199.pickle to soap/skeleton/struct_S103e_fcc_N176_106_195_Al_M99_210622.2199_skeleton.pickle\n",
      "Processed and saved skeleton decomposition for soap/soap_data/struct_S103e_fcc_N167_282_99_Al_M99_210624.2015.pickle to soap/skeleton/struct_S103e_fcc_N167_282_99_Al_M99_210624.2015_skeleton.pickle\n",
      "Processed and saved skeleton decomposition for soap/soap_data/struct_S103e_fcc_N18_60_89_Al_M99_210625.1551.pickle to soap/skeleton/struct_S103e_fcc_N18_60_89_Al_M99_210625.1551_skeleton.pickle\n",
      "Processed and saved skeleton decomposition for soap/soap_data/struct_S103e_fcc_N133_203_11_Al_M99_200714.2934.pickle to soap/skeleton/struct_S103e_fcc_N133_203_11_Al_M99_200714.2934_skeleton.pickle\n",
      "Processed and saved skeleton decomposition for soap/soap_data/struct_S103e_fcc_N18_n43_89_Al_M99_200714.782.pickle to soap/skeleton/struct_S103e_fcc_N18_n43_89_Al_M99_200714.782_skeleton.pickle\n",
      "Processed and saved skeleton decomposition for soap/soap_data/struct_S103e_fcc_N251_253_171_Al_M99_210624.1655.pickle to soap/skeleton/struct_S103e_fcc_N251_253_171_Al_M99_210624.1655_skeleton.pickle\n",
      "Processed and saved skeleton decomposition for soap/soap_data/struct_S103e_fcc_N19_29_31_Al_M99_200714.175.pickle to soap/skeleton/struct_S103e_fcc_N19_29_31_Al_M99_200714.175_skeleton.pickle\n",
      "Processed and saved skeleton decomposition for soap/soap_data/struct_S103e_fcc_N142_130_107_Al_M99_210622.63.pickle to soap/skeleton/struct_S103e_fcc_N142_130_107_Al_M99_210622.63_skeleton.pickle\n",
      "Processed and saved skeleton decomposition for soap/soap_data/struct_S103e_fcc_N199_629_97_Al_M99_210624.1414.pickle to soap/skeleton/struct_S103e_fcc_N199_629_97_Al_M99_210624.1414_skeleton.pickle\n"
     ]
    }
   ],
   "source": [
    "# Process files for skeleton decomposition\n",
    "for filename in glob.glob(os.path.join(dir_path_soap, '*.pickle')):\n",
    "    with open(filename, 'rb') as f:\n",
    "        data = pickle.load(f)\n",
    "    data = data.astype(np.float64)\n",
    "    data = np.nan_to_num(data, nan=0.000001, posinf=0.000001, neginf=0.000001)\n",
    "    process_and_save_skeleton(data, filename, output_dir_skeleton)\n"
   ]
  },
  {
   "cell_type": "markdown",
   "metadata": {},
   "source": [
    "## Largest Simplex"
   ]
  },
  {
   "cell_type": "code",
   "execution_count": 16,
   "metadata": {},
   "outputs": [
    {
     "name": "stdout",
     "output_type": "stream",
     "text": [
      "Processed and saved largest simplex for soap/soap_data/struct_S103e_fcc_N119_19_205_Al_M99_200714.3134.pickle to soap/largest_simplex/struct_S103e_fcc_N119_19_205_Al_M99_200714.3134_largest_simplex.pickle\n",
      "Processed and saved largest simplex for soap/soap_data/struct_S103e_fcc_N176_106_195_Al_M99_210622.2199.pickle to soap/largest_simplex/struct_S103e_fcc_N176_106_195_Al_M99_210622.2199_largest_simplex.pickle\n",
      "Processed and saved largest simplex for soap/soap_data/struct_S103e_fcc_N167_282_99_Al_M99_210624.2015.pickle to soap/largest_simplex/struct_S103e_fcc_N167_282_99_Al_M99_210624.2015_largest_simplex.pickle\n",
      "Processed and saved largest simplex for soap/soap_data/struct_S103e_fcc_N18_60_89_Al_M99_210625.1551.pickle to soap/largest_simplex/struct_S103e_fcc_N18_60_89_Al_M99_210625.1551_largest_simplex.pickle\n",
      "Processed and saved largest simplex for soap/soap_data/struct_S103e_fcc_N133_203_11_Al_M99_200714.2934.pickle to soap/largest_simplex/struct_S103e_fcc_N133_203_11_Al_M99_200714.2934_largest_simplex.pickle\n",
      "Processed and saved largest simplex for soap/soap_data/struct_S103e_fcc_N18_n43_89_Al_M99_200714.782.pickle to soap/largest_simplex/struct_S103e_fcc_N18_n43_89_Al_M99_200714.782_largest_simplex.pickle\n",
      "Processed and saved largest simplex for soap/soap_data/struct_S103e_fcc_N251_253_171_Al_M99_210624.1655.pickle to soap/largest_simplex/struct_S103e_fcc_N251_253_171_Al_M99_210624.1655_largest_simplex.pickle\n",
      "Processed and saved largest simplex for soap/soap_data/struct_S103e_fcc_N19_29_31_Al_M99_200714.175.pickle to soap/largest_simplex/struct_S103e_fcc_N19_29_31_Al_M99_200714.175_largest_simplex.pickle\n",
      "Processed and saved largest simplex for soap/soap_data/struct_S103e_fcc_N142_130_107_Al_M99_210622.63.pickle to soap/largest_simplex/struct_S103e_fcc_N142_130_107_Al_M99_210622.63_largest_simplex.pickle\n",
      "Processed and saved largest simplex for soap/soap_data/struct_S103e_fcc_N199_629_97_Al_M99_210624.1414.pickle to soap/largest_simplex/struct_S103e_fcc_N199_629_97_Al_M99_210624.1414_largest_simplex.pickle\n"
     ]
    }
   ],
   "source": [
    "# Process files for finding the largest simplex\n",
    "for filename in glob.glob(os.path.join(dir_path_soap, '*.pickle')):\n",
    "    with open(filename, 'rb') as f:\n",
    "        data = pickle.load(f)\n",
    "    data = np.nan_to_num(data, nan=0.000001, posinf=0.000001, neginf=0.000001)\n",
    "    process_and_save_largest_simplex(data, filename, output_dir_largest_simplex)"
   ]
  },
  {
   "cell_type": "code",
   "execution_count": null,
   "metadata": {},
   "outputs": [],
   "source": []
  }
 ],
 "metadata": {
  "kernelspec": {
   "display_name": "finalenv",
   "language": "python",
   "name": "finalenv"
  },
  "language_info": {
   "codemirror_mode": {
    "name": "ipython",
    "version": 3
   },
   "file_extension": ".py",
   "mimetype": "text/x-python",
   "name": "python",
   "nbconvert_exporter": "python",
   "pygments_lexer": "ipython3",
   "version": "3.8.5"
  }
 },
 "nbformat": 4,
 "nbformat_minor": 4
}
